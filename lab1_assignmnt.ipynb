{
 "cells": [
  {
   "cell_type": "markdown",
   "metadata": {},
   "source": [
    "## EQUATION 1: (x+y)^2=x^2+y^2+2xy"
   ]
  },
  {
   "cell_type": "code",
   "execution_count": null,
   "metadata": {
    "collapsed": true
   },
   "outputs": [],
   "source": [
    "import tensorflow as tf\n",
    "with tf.name_scope(\"homework1_1\"):\n",
    "    with tf.name_scope(\"a_sq\"):\n",
    "        x=2\n",
    "        a = tf.pow(x,2)\n",
    "    with tf.name_scope(\"b_sq\"):\n",
    "        y=7\n",
    "        b = tf.pow(y,2)\n",
    "\n",
    "    with tf.name_scope(\"2ab\"):\n",
    "        e = tf.multiply(2,tf.multiply(x,y))\n",
    "\n",
    "    with tf.name_scope(\"answer\"):\n",
    "        f = tf.add(tf.add(a,b),e)\n",
    "        \n",
    "    with tf.Session() as sess:\n",
    "        writer = tf.summary.FileWriter(\"/tmp/tboard/output1\", sess.graph)\n",
    "        print(sess.run(f))\n",
    "        writer.close()"
   ]
  },
  {
   "cell_type": "markdown",
   "metadata": {},
   "source": [
    "## EQUATION 2: (x-y)^3=x^3-y^3-3xy(x-y)"
   ]
  },
  {
   "cell_type": "code",
   "execution_count": 1,
   "metadata": {},
   "outputs": [
    {
     "name": "stdout",
     "output_type": "stream",
     "text": [
      "729000\n"
     ]
    }
   ],
   "source": [
    "import tensorflow as tf\n",
    "with tf.name_scope(\"homework1_2\"):\n",
    "    with tf.name_scope(\"x_cube\"):\n",
    "        x=100\n",
    "        a = tf.pow(x,3)\n",
    "    with tf.name_scope(\"y_cube\"):\n",
    "        y=10\n",
    "        b = tf.pow(y,3)\n",
    "\n",
    "    with tf.name_scope(\"3xy\"):\n",
    "        c = tf.multiply(3,tf.multiply(x,y))\n",
    "\n",
    "        \n",
    "    with tf.name_scope(\"x_minus_y\"):\n",
    "        d = tf.subtract(x,y)\n",
    "\n",
    "     \n",
    "    with tf.name_scope(\"3xy_x_minus_y\"):\n",
    "        e = tf.multiply(c,d)\n",
    "\n",
    "              \n",
    "    with tf.name_scope(\"x_cube-y_cube\"):\n",
    "        f = tf.subtract(a,b)\n",
    "    \n",
    "        \n",
    "    with tf.name_scope(\"solution\"):\n",
    "        g = tf.subtract(f,e)\n",
    "\n",
    "     \n",
    "    with tf.Session() as sess:\n",
    "        writer = tf.summary.FileWriter(\"/tmp/tboard/output2\", sess.graph)\n",
    "        print(sess.run(g))\n",
    "        writer.close()\n",
    "\n",
    "\n"
   ]
  },
  {
   "cell_type": "code",
   "execution_count": null,
   "metadata": {
    "collapsed": true
   },
   "outputs": [],
   "source": []
  },
  {
   "cell_type": "code",
   "execution_count": null,
   "metadata": {
    "collapsed": true
   },
   "outputs": [],
   "source": []
  }
 ],
 "metadata": {
  "kernelspec": {
   "display_name": "Python 3",
   "language": "python",
   "name": "python3"
  },
  "language_info": {
   "codemirror_mode": {
    "name": "ipython",
    "version": 3
   },
   "file_extension": ".py",
   "mimetype": "text/x-python",
   "name": "python",
   "nbconvert_exporter": "python",
   "pygments_lexer": "ipython3",
   "version": "3.6.1"
  }
 },
 "nbformat": 4,
 "nbformat_minor": 2
}
